{
 "cells": [
  {
   "cell_type": "code",
   "execution_count": 33,
   "id": "b864fad4-d325-4a18-901c-a3bd12262db3",
   "metadata": {},
   "outputs": [
    {
     "name": "stdin",
     "output_type": "stream",
     "text": [
      "Choose a number to indicate the type of expense: \n",
      "\n",
      "1: Car\n",
      "2: Food\n",
      "3: Shopping\n",
      "4: Subscriptions\n",
      "5: Essentials/Utilities\n",
      "6: Other\n",
      "7: Savings\\Investments\n",
      " 1\n",
      "Please input all Car related expenses, separated by commas:\n",
      " 234, 4\n"
     ]
    },
    {
     "ename": "AttributeError",
     "evalue": "'Series' object has no attribute 'merge'",
     "output_type": "error",
     "traceback": [
      "\u001b[0;31m---------------------------------------------------------------------------\u001b[0m",
      "\u001b[0;31mAttributeError\u001b[0m                            Traceback (most recent call last)",
      "\u001b[0;32m/var/folders/m5/9hjs8z0j1994wsf2b751mxyw0000gn/T/ipykernel_34430/4284187994.py\u001b[0m in \u001b[0;36m?\u001b[0;34m()\u001b[0m\n\u001b[1;32m     60\u001b[0m     \u001b[0;32melse\u001b[0m\u001b[0;34m:\u001b[0m\u001b[0;34m\u001b[0m\u001b[0;34m\u001b[0m\u001b[0m\n\u001b[1;32m     61\u001b[0m         \u001b[0mprint\u001b[0m\u001b[0;34m(\u001b[0m\u001b[0;34m\"Wrong input.\"\u001b[0m\u001b[0;34m)\u001b[0m\u001b[0;34m\u001b[0m\u001b[0;34m\u001b[0m\u001b[0m\n\u001b[1;32m     62\u001b[0m         \u001b[0myes_or_no\u001b[0m\u001b[0;34m(\u001b[0m\u001b[0;34m)\u001b[0m\u001b[0;34m\u001b[0m\u001b[0;34m\u001b[0m\u001b[0m\n\u001b[1;32m     63\u001b[0m \u001b[0;34m\u001b[0m\u001b[0m\n\u001b[0;32m---> 64\u001b[0;31m \u001b[0mprompt\u001b[0m\u001b[0;34m(\u001b[0m\u001b[0;34m)\u001b[0m\u001b[0;34m\u001b[0m\u001b[0;34m\u001b[0m\u001b[0m\n\u001b[0m",
      "\u001b[0;32m/var/folders/m5/9hjs8z0j1994wsf2b751mxyw0000gn/T/ipykernel_34430/4284187994.py\u001b[0m in \u001b[0;36m?\u001b[0;34m()\u001b[0m\n\u001b[1;32m     47\u001b[0m \u001b[0;32mdef\u001b[0m \u001b[0mprompt\u001b[0m\u001b[0;34m(\u001b[0m\u001b[0;34m)\u001b[0m\u001b[0;34m:\u001b[0m\u001b[0;34m\u001b[0m\u001b[0;34m\u001b[0m\u001b[0m\n\u001b[0;32m---> 48\u001b[0;31m     print(new_expense(input('''Choose a number to indicate the type of expense: \\n\n\u001b[0m\u001b[1;32m     49\u001b[0m 1: Car\\n2: Food\\n3: Shopping\\n4: Subscriptions\\n5: Essentials/Utilities\\n6: Other\\n7: Savings\\Investments\\n''')))\n",
      "\u001b[0;32m/var/folders/m5/9hjs8z0j1994wsf2b751mxyw0000gn/T/ipykernel_34430/4284187994.py\u001b[0m in \u001b[0;36m?\u001b[0;34m(expense_type)\u001b[0m\n\u001b[1;32m     16\u001b[0m         \u001b[0mexpenselist\u001b[0m \u001b[0;34m=\u001b[0m \u001b[0mpd\u001b[0m\u001b[0;34m.\u001b[0m\u001b[0mSeries\u001b[0m\u001b[0;34m(\u001b[0m\u001b[0mexpensesdf\u001b[0m\u001b[0;34m[\u001b[0m\u001b[0;34m'Car'\u001b[0m\u001b[0;34m]\u001b[0m\u001b[0;34m)\u001b[0m\u001b[0;34m\u001b[0m\u001b[0;34m\u001b[0m\u001b[0m\n\u001b[1;32m     17\u001b[0m         \u001b[0mexpenses\u001b[0m \u001b[0;34m=\u001b[0m \u001b[0minput\u001b[0m\u001b[0;34m(\u001b[0m\u001b[0;34m\"Please input all Car related expenses, separated by commas:\\n\"\u001b[0m\u001b[0;34m)\u001b[0m\u001b[0;34m\u001b[0m\u001b[0;34m\u001b[0m\u001b[0m\n\u001b[1;32m     18\u001b[0m         \u001b[0mexpenses\u001b[0m \u001b[0;34m=\u001b[0m \u001b[0mexpenses\u001b[0m\u001b[0;34m.\u001b[0m\u001b[0mreplace\u001b[0m\u001b[0;34m(\u001b[0m\u001b[0;34m\",\"\u001b[0m\u001b[0;34m,\u001b[0m \u001b[0;34m\"\"\u001b[0m\u001b[0;34m)\u001b[0m\u001b[0;34m\u001b[0m\u001b[0;34m\u001b[0m\u001b[0m\n\u001b[1;32m     19\u001b[0m         \u001b[0msplitlist\u001b[0m \u001b[0;34m=\u001b[0m \u001b[0mpd\u001b[0m\u001b[0;34m.\u001b[0m\u001b[0mSeries\u001b[0m\u001b[0;34m(\u001b[0m\u001b[0mexpenses\u001b[0m\u001b[0;34m.\u001b[0m\u001b[0msplit\u001b[0m\u001b[0;34m(\u001b[0m\u001b[0;34m)\u001b[0m\u001b[0;34m)\u001b[0m\u001b[0;34m\u001b[0m\u001b[0;34m\u001b[0m\u001b[0m\n\u001b[0;32m---> 20\u001b[0;31m         \u001b[0mexpensesdf\u001b[0m\u001b[0;34m[\u001b[0m\u001b[0;34m'Car'\u001b[0m\u001b[0;34m]\u001b[0m \u001b[0;34m=\u001b[0m \u001b[0mpd\u001b[0m\u001b[0;34m.\u001b[0m\u001b[0mDataFrame\u001b[0m\u001b[0;34m(\u001b[0m\u001b[0mexpenselist\u001b[0m\u001b[0;34m.\u001b[0m\u001b[0mmerge\u001b[0m\u001b[0;34m(\u001b[0m\u001b[0msplitlist\u001b[0m\u001b[0;34m,\u001b[0m \u001b[0mignore_index\u001b[0m\u001b[0;34m=\u001b[0m\u001b[0;32mTrue\u001b[0m\u001b[0;34m,\u001b[0m \u001b[0mcolumns\u001b[0m\u001b[0;34m=\u001b[0m\u001b[0;34m[\u001b[0m\u001b[0;34m'Car'\u001b[0m\u001b[0;34m]\u001b[0m\u001b[0;34m)\u001b[0m\u001b[0;34m)\u001b[0m\u001b[0;34m\u001b[0m\u001b[0;34m\u001b[0m\u001b[0m\n\u001b[0m\u001b[1;32m     21\u001b[0m        \u001b[0;31m# for i in range(len(splitlist)):\u001b[0m\u001b[0;34m\u001b[0m\u001b[0;34m\u001b[0m\u001b[0m\n\u001b[1;32m     22\u001b[0m          \u001b[0;31m#   expenselist.append(splitlist[i])\u001b[0m\u001b[0;34m\u001b[0m\u001b[0;34m\u001b[0m\u001b[0m\n\u001b[1;32m     23\u001b[0m       \u001b[0;31m#  if len(expensesdf.index) < len(expenselist):\u001b[0m\u001b[0;34m\u001b[0m\u001b[0;34m\u001b[0m\u001b[0m\n",
      "\u001b[0;32m/Library/Frameworks/Python.framework/Versions/3.11/lib/python3.11/site-packages/pandas/core/generic.py\u001b[0m in \u001b[0;36m?\u001b[0;34m(self, name)\u001b[0m\n\u001b[1;32m   5985\u001b[0m             \u001b[0;32mand\u001b[0m \u001b[0mname\u001b[0m \u001b[0;32mnot\u001b[0m \u001b[0;32min\u001b[0m \u001b[0mself\u001b[0m\u001b[0;34m.\u001b[0m\u001b[0m_accessors\u001b[0m\u001b[0;34m\u001b[0m\u001b[0;34m\u001b[0m\u001b[0m\n\u001b[1;32m   5986\u001b[0m             \u001b[0;32mand\u001b[0m \u001b[0mself\u001b[0m\u001b[0;34m.\u001b[0m\u001b[0m_info_axis\u001b[0m\u001b[0;34m.\u001b[0m\u001b[0m_can_hold_identifiers_and_holds_name\u001b[0m\u001b[0;34m(\u001b[0m\u001b[0mname\u001b[0m\u001b[0;34m)\u001b[0m\u001b[0;34m\u001b[0m\u001b[0;34m\u001b[0m\u001b[0m\n\u001b[1;32m   5987\u001b[0m         ):\n\u001b[1;32m   5988\u001b[0m             \u001b[0;32mreturn\u001b[0m \u001b[0mself\u001b[0m\u001b[0;34m[\u001b[0m\u001b[0mname\u001b[0m\u001b[0;34m]\u001b[0m\u001b[0;34m\u001b[0m\u001b[0;34m\u001b[0m\u001b[0m\n\u001b[0;32m-> 5989\u001b[0;31m         \u001b[0;32mreturn\u001b[0m \u001b[0mobject\u001b[0m\u001b[0;34m.\u001b[0m\u001b[0m__getattribute__\u001b[0m\u001b[0;34m(\u001b[0m\u001b[0mself\u001b[0m\u001b[0;34m,\u001b[0m \u001b[0mname\u001b[0m\u001b[0;34m)\u001b[0m\u001b[0;34m\u001b[0m\u001b[0;34m\u001b[0m\u001b[0m\n\u001b[0m",
      "\u001b[0;31mAttributeError\u001b[0m: 'Series' object has no attribute 'merge'"
     ]
    }
   ],
   "source": [
    "import pandas as pd\n",
    "import numpy as np\n",
    "import matplotlib.pyplot as plot\n",
    "import re\n",
    "expenses = []\n",
    "expensesdf = pd.DataFrame(expenses, columns = ['Car','Food', 'Shopping', 'Subscriptions', 'Essentials/Utilities', 'Other', 'Savings/Investment'])\n",
    "#def number_checker(x)\n",
    " #   for i in range(len(x)):\n",
    "  #      try: \n",
    "   #         expenselist[i] = float(x[i])\n",
    "    #    except: \n",
    "     #       print(\"Please input numbers.\")\n",
    "      #      quit()\n",
    "def new_expense(expense_type):\n",
    "    if expense_type == '1':\n",
    "        expenselist = pd.Series(expensesdf['Car'])\n",
    "        expenses = input(\"Please input all Car related expenses, separated by commas:\\n\")\n",
    "        expenses = expenses.replace(\",\", \"\")\n",
    "        splitlist = pd.Series(expenses.split())\n",
    "        \n",
    "       # expensesdf['Car'] = pd.DataFrame(expenselist.merge(splitlist, ignore_index=True, columns=['Car']))\n",
    "       # for i in range(len(splitlist)):\n",
    "         #   expenselist.append(splitlist[i])\n",
    "      #  if len(expensesdf.index) < len(expenselist):\n",
    "         #   expensesdf.index = len(expenselist)\n",
    "        expensesdf['Car'] = total\n",
    "        \n",
    "        print(\"The Following has been added:\\n\", \n",
    "        expensesdf['Car'])\n",
    "        return yes_or_no()\n",
    "    if expense_type == '2':\n",
    "        expensesdf['Food'] = expenselist\n",
    "    if expense_type == '3':\n",
    "        expensesdf['Shopping'] = expenselist\n",
    "    if expense_type == '4':\n",
    "        expensesdf['Subscriptions'] = expenselist\n",
    "    if expense_type == '5':\n",
    "        expensesdf['Essentials/Utilities'] = expenselist\n",
    "    if expense_type == '6':\n",
    "        expensesdf['Other'] = expenselist\n",
    "    if expense_type == '7':\n",
    "        expensesdf['Savings/Investment'] = expenselist\n",
    "    else:\n",
    "        print(\"Incorrect input. Try again.\")\n",
    "    yes_or_no()\n",
    "\n",
    "            \n",
    "def prompt():\n",
    "    print(new_expense(input('''Choose a number to indicate the type of expense: \\n\n",
    "1: Car\\n2: Food\\n3: Shopping\\n4: Subscriptions\\n5: Essentials/Utilities\\n6: Other\\n7: Savings\\Investments\\n''')))\n",
    "\n",
    "def yes_or_no():\n",
    "    question = input(\"Keep adding expenses? Return Y or N: \")\n",
    "    question.lower()\n",
    "    if question == 'n':\n",
    "        return print(\"Got it. Ending program.\")\n",
    "        quit()\n",
    "    if question == 'y':\n",
    "        print(\"Got it. Going back to beginning.\")\n",
    "        return prompt()\n",
    "    else:\n",
    "        print(\"Wrong input.\")\n",
    "        yes_or_no()\n",
    "        \n",
    "prompt()\n"
   ]
  },
  {
   "cell_type": "markdown",
   "id": "f5c8d51b-1850-4731-be3a-d44995a1473c",
   "metadata": {},
   "source": [
    "# expensesdf"
   ]
  },
  {
   "cell_type": "code",
   "execution_count": 22,
   "id": "1990c9f5-dc8d-4b5d-b368-9894458056b2",
   "metadata": {},
   "outputs": [
    {
     "data": {
      "text/html": [
       "<div>\n",
       "<style scoped>\n",
       "    .dataframe tbody tr th:only-of-type {\n",
       "        vertical-align: middle;\n",
       "    }\n",
       "\n",
       "    .dataframe tbody tr th {\n",
       "        vertical-align: top;\n",
       "    }\n",
       "\n",
       "    .dataframe thead th {\n",
       "        text-align: right;\n",
       "    }\n",
       "</style>\n",
       "<table border=\"1\" class=\"dataframe\">\n",
       "  <thead>\n",
       "    <tr style=\"text-align: right;\">\n",
       "      <th></th>\n",
       "      <th>Car</th>\n",
       "      <th>Food</th>\n",
       "      <th>Shopping</th>\n",
       "      <th>Subscriptions</th>\n",
       "      <th>Essentials/Utilities</th>\n",
       "      <th>Other</th>\n",
       "      <th>Savings/Investment</th>\n",
       "    </tr>\n",
       "  </thead>\n",
       "  <tbody>\n",
       "    <tr>\n",
       "      <th>0</th>\n",
       "      <td>234</td>\n",
       "      <td>NaN</td>\n",
       "      <td>NaN</td>\n",
       "      <td>NaN</td>\n",
       "      <td>NaN</td>\n",
       "      <td>NaN</td>\n",
       "      <td>NaN</td>\n",
       "    </tr>\n",
       "    <tr>\n",
       "      <th>1</th>\n",
       "      <td>4</td>\n",
       "      <td>NaN</td>\n",
       "      <td>NaN</td>\n",
       "      <td>NaN</td>\n",
       "      <td>NaN</td>\n",
       "      <td>NaN</td>\n",
       "      <td>NaN</td>\n",
       "    </tr>\n",
       "  </tbody>\n",
       "</table>\n",
       "</div>"
      ],
      "text/plain": [
       "   Car Food Shopping Subscriptions Essentials/Utilities Other  \\\n",
       "0  234  NaN      NaN           NaN                  NaN   NaN   \n",
       "1    4  NaN      NaN           NaN                  NaN   NaN   \n",
       "\n",
       "  Savings/Investment  \n",
       "0                NaN  \n",
       "1                NaN  "
      ]
     },
     "execution_count": 22,
     "metadata": {},
     "output_type": "execute_result"
    }
   ],
   "source": [
    "expensesdf\n"
   ]
  },
  {
   "cell_type": "code",
   "execution_count": null,
   "id": "cf9d5d62-19d2-4b44-ae31-dd53ab0a89dc",
   "metadata": {},
   "outputs": [],
   "source": []
  }
 ],
 "metadata": {
  "kernelspec": {
   "display_name": "Python 3 (ipykernel)",
   "language": "python",
   "name": "python3"
  },
  "language_info": {
   "codemirror_mode": {
    "name": "ipython",
    "version": 3
   },
   "file_extension": ".py",
   "mimetype": "text/x-python",
   "name": "python",
   "nbconvert_exporter": "python",
   "pygments_lexer": "ipython3",
   "version": "3.11.4"
  }
 },
 "nbformat": 4,
 "nbformat_minor": 5
}
