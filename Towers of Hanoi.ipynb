{
 "cells": [
  {
   "cell_type": "code",
   "execution_count": 2,
   "id": "1d598cd1-5e3e-496c-8d78-aa981d01beb7",
   "metadata": {
    "editable": true,
    "slideshow": {
     "slide_type": ""
    },
    "tags": []
   },
   "outputs": [
    {
     "name": "stdout",
     "output_type": "stream",
     "text": [
      "*** Towers of Hanoi ***\n",
      "\n"
     ]
    },
    {
     "name": "stdin",
     "output_type": "stream",
     "text": [
      "Enter number of disks:  4\n"
     ]
    },
    {
     "name": "stdout",
     "output_type": "stream",
     "text": [
      "\n",
      "Move disk 1 from A to C\n",
      "Move disk 2 from A to B\n",
      "Move disk 1 from C to B\n",
      "Move disk 3 from A to C\n",
      "Move disk 1 from B to A\n",
      "Move disk 2 from B to C\n",
      "Move disk 1 from A to C\n",
      "Move disk 4 from A to B\n",
      "Move disk 1 from C to B\n",
      "Move disk 2 from C to A\n",
      "Move disk 1 from B to A\n",
      "Move disk 3 from C to B\n",
      "Move disk 1 from A to C\n",
      "Move disk 2 from A to B\n",
      "Move disk 1 from C to B\n",
      "\n",
      "All disks have been moved.\n",
      "\n",
      "Total moves:  15\n"
     ]
    }
   ],
   "source": [
    "#the goal is to move all disks from peg A to peg C so they end up in the same order as the original peg, \n",
    "#you can only move one disk at a time\n",
    "#there are multiple disks on top of each other\n",
    "#you can't place a larger disk on a smaller one\n",
    "#there are three pegs, A, B, C\n",
    "#recursive algorithm practice:\n",
    "#move n-1 disks from peg A to peg B using peg C as temporary holder\n",
    "#move disk n fgrom peg A to peg C\n",
    "#move n-1 disks from peg B to peg C using peg A as a temporary holder\n",
    "def move_disk(n, src, dest, temp): \n",
    "    if n == 0:\n",
    "        return\n",
    "    else:\n",
    "        global counter\n",
    "        counter+=1\n",
    "        move_disk(n-1, src, temp, dest)\n",
    "        print(\"Move disk\", n, \"from\", src, \"to\", dest)\n",
    "        move_disk(n-1, temp, dest, src)\n",
    "\n",
    "counter = 0\n",
    "\n",
    "def main():\n",
    "    print(\"*** Towers of Hanoi ***\")\n",
    "    print()\n",
    "    num_disks = int(input(\"Enter number of disks: \"))\n",
    "    print()\n",
    "\n",
    "    move_disk(num_disks, \"A\", \"B\", \"C\")\n",
    "\n",
    "    print()\n",
    "    print(\"All disks have been moved.\")\n",
    "    print()\n",
    "    print(\"Total moves: \", counter)\n",
    "\n",
    "if __name__ == \"__main__\":\n",
    "    main()\n"
   ]
  },
  {
   "cell_type": "code",
   "execution_count": null,
   "id": "0e61ac56-ed69-43ec-9e30-c67974f4b4d7",
   "metadata": {},
   "outputs": [],
   "source": []
  }
 ],
 "metadata": {
  "kernelspec": {
   "display_name": "Python 3 (ipykernel)",
   "language": "python",
   "name": "python3"
  },
  "language_info": {
   "codemirror_mode": {
    "name": "ipython",
    "version": 3
   },
   "file_extension": ".py",
   "mimetype": "text/x-python",
   "name": "python",
   "nbconvert_exporter": "python",
   "pygments_lexer": "ipython3",
   "version": "3.11.5"
  }
 },
 "nbformat": 4,
 "nbformat_minor": 5
}
